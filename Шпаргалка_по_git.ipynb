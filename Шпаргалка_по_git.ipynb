{
 "cells": [
  {
   "cell_type": "markdown",
   "id": "235234fc",
   "metadata": {},
   "source": [
    "# Шпаргалка по git"
   ]
  },
  {
   "cell_type": "markdown",
   "id": "468e7556",
   "metadata": {},
   "source": [
    "## Создание файла `.gitignore` в Python-проекте"
   ]
  },
  {
   "cell_type": "markdown",
   "id": "6553fd8e",
   "metadata": {},
   "source": [
    "Создание файла `.gitignore` в Python-проекте можно выполнить прямо из терминала (командной строки). Вот команда, которая создаст файл `.gitignore` и добавит в него строку для исключения папок виртуального окружения:"
   ]
  },
  {
   "cell_type": "markdown",
   "id": "e330051d",
   "metadata": {},
   "source": [
    "```bash\n",
    "echo .venv > .gitignore\n",
    "```"
   ]
  },
  {
   "cell_type": "markdown",
   "id": "f8a86c23",
   "metadata": {},
   "source": [
    "Если вы хотите сгенерировать стандартный набор исключений для `Python-проекта`, вы можете использовать следующую команду для получения предустановленного содержимого из сервиса [gitignore.io](https://www.toptal.com/developers/gitignore):"
   ]
  },
  {
   "cell_type": "markdown",
   "id": "169450e8",
   "metadata": {},
   "source": [
    "```bash\n",
    "curl https://www.toptal.com/developers/gitignore/api/python > .gitignore\n",
    "```"
   ]
  },
  {
   "cell_type": "markdown",
   "id": "0a8acb77",
   "metadata": {},
   "source": [
    "Убедитесь, что у вас установлена утилита `curl` перед использованием этой команды.\n",
    "\n",
    "Для ручного добавления содержимого в `.gitignore`, откройте файл в текстовом редакторе и введите необходимые строки."
   ]
  },
  {
   "cell_type": "markdown",
   "id": "a103ba8d",
   "metadata": {},
   "source": [
    "# Удаление Файлов из Git Репозитория\n",
    "\n",
    "Чтобы удалить файлы из вашего локального репозитория Git и навсегда удалить их из истории репозитория, выполните следующие шаги:\n",
    "\n",
    "## Шаг 1: Удаление файлов из рабочей директории\n",
    "\n",
    "Удалите файлы, используя команду `git rm`. Замените `<filename>` на имя файла, который вы хотите удалить. Если нужно удалить несколько файлов, выполните эту команду для каждого из них:\n",
    "\n",
    "```bash\n",
    "git rm --cached <filename>\n",
    "```\n",
    "\n",
    "## Шаг 2: Добавление изменений в индекс\n",
    "\n",
    "Добавьте изменения в индекс Git с помощью команды:\n",
    "\n",
    "```bash\n",
    "git add .\n",
    "```\n",
    "\n",
    "## Шаг 3: Создание коммита\n",
    "\n",
    "Создайте новый коммит, который будет содержать удаление файлов:\n",
    "\n",
    "```bash\n",
    "git commit -m \"Remove files from repository\"\n",
    "```\n",
    "\n",
    "## Шаг 4: Окончательное удаление из истории репозитория\n",
    "\n",
    "Чтобы удалить файлы навсегда из истории репозитория, выполните команду `git push` с опцией `--force`. Замените `<branch name>` на имя ветки, в которой вы работаете:\n",
    "\n",
    "```bash\n",
    "git push --force origin <branch name>\n",
    "```\n",
    "\n",
    "**Важно**: `git push --force` может привести к потере истории для других разработчиков, которые уже склонировали ваш репозиторий. Убедитесь, что все участники проекта согласны с удалением файлов и обновлением истории, прежде чем выполнять эту команду."
   ]
  }
 ],
 "metadata": {
  "kernelspec": {
   "display_name": "Python 3 (ipykernel)",
   "language": "python",
   "name": "python3"
  },
  "language_info": {
   "codemirror_mode": {
    "name": "ipython",
    "version": 3
   },
   "file_extension": ".py",
   "mimetype": "text/x-python",
   "name": "python",
   "nbconvert_exporter": "python",
   "pygments_lexer": "ipython3",
   "version": "3.11.5"
  }
 },
 "nbformat": 4,
 "nbformat_minor": 5
}
